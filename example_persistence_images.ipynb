{
 "cells": [
  {
   "cell_type": "markdown",
   "metadata": {},
   "source": [
    "#### Example Persistence Images"
   ]
  },
  {
   "cell_type": "code",
   "execution_count": 1,
   "metadata": {},
   "outputs": [],
   "source": [
    "import numpy as np\n",
    "import matplotlib.pyplot as plt\n",
    "from gtda.homology import CubicalPersistence\n",
    "from gudhi.persistence_graphical_tools import plot_persistence_diagram\n",
    "from gtda.diagrams import PersistenceImage"
   ]
  },
  {
   "cell_type": "code",
   "execution_count": 2,
   "metadata": {},
   "outputs": [],
   "source": [
    "# produce persistence surfaces as a weighted sum of all distributions\n",
    "\n",
    "# define bump weight function \n",
    "def bump(b_p_data, params):\n",
    "    # Persistence length\n",
    "    radius = b_p_data[1]\n",
    "\n",
    "    # Parameters controlling range of non-zero, non-trivial weightings\n",
    "    maxradius = params[0]\n",
    "    minradius = params[1]\n",
    "\n",
    "    # Parameters controlling bump function near maxradius and minradius\n",
    "    M = [params[2], params[3]]\n",
    "\n",
    "    # Parameter to control error approximation\n",
    "    resolution = params[4]\n",
    "\n",
    "    if radius > maxradius:\n",
    "        return 1\n",
    "    elif radius < minradius:\n",
    "        return 0\n",
    "    \n",
    "    # Compute bump function weights\n",
    "    x = np.linspace(minradius, maxradius, resolution)\n",
    "    g = np.zeros(resolution)\n",
    "\n",
    "    for i in range(resolution):\n",
    "        g[i] = f(x[i] - minradius, M[0]) * f(maxradius - x[i], M[1])\n",
    "\n",
    "    return h(x, g, radius)\n",
    "\n",
    "# helper functions\n",
    "def f(x, M):\n",
    "    if x > 0:\n",
    "        return np.exp(-M / x)\n",
    "    else:\n",
    "        return 0\n",
    "\n",
    "def h(x, g, radius):\n",
    "    idx = (np.abs(x - radius)).argmin()\n",
    "    if idx < 1:\n",
    "        return 0\n",
    "    else:\n",
    "        return np.trapz(g[:idx+1], x[:idx+1]) / np.trapz(g, x)\n",
    "\n",
    "\n",
    "# define linear weight function\n",
    "def linear_ramp(b_p_data, params):\n",
    "    min_radius = params[0]\n",
    "    max_radius = params[1]\n",
    "\n",
    "    x = b_p_data[1]\n",
    "\n",
    "    if x <= min_radius:\n",
    "        return 0\n",
    "    elif x >= max_radius:\n",
    "        return 1\n",
    "    else:\n",
    "        return (x - min_radius) / (max_radius - min_radius)\n",
    "    \n",
    "# Wrapper function to pass params to linear_ramp\n",
    "def linear_ramp_wrapper(params):\n",
    "    def wrapped_function(b_p_data):\n",
    "        return linear_ramp(b_p_data, params)\n",
    "    return wrapped_function"
   ]
  },
  {
   "cell_type": "code",
   "execution_count": 3,
   "metadata": {},
   "outputs": [],
   "source": [
    "# define functions to make persistence images\n",
    "\n",
    "def make_PIs(HKs, res, sig, weight_func=None, params=None):\n",
    "    cp = CubicalPersistence(homology_dimensions=[1], coeff=2, periodic_dimensions=None)\n",
    "\n",
    "    # Compute persistence diagrams\n",
    "    persistence_diagrams = cp.fit_transform(HKs)\n",
    "\n",
    "    # Initialize PersistenceImage with the given parameters\n",
    "    pi = PersistenceImage(sigma=sig, n_bins=res, weight_function=weight_func)\n",
    "\n",
    "    # Transform the persistence diagrams into persistence images\n",
    "    PIs = pi.fit_transform(persistence_diagrams)\n",
    "\n",
    "    return PIs\n",
    "\n",
    "# Define functions to make persistence vectors\n",
    "def make_PVs(HKs, res, sig, weight_func=None, params=None):\n",
    "    cp = CubicalPersistence(homology_dimensions=[1], coeff=2, periodic_dimensions=None)\n",
    "\n",
    "    # Compute persistence diagrams\n",
    "    persistence_diagrams = cp.fit_transform(HKs)\n",
    "\n",
    "    # Initialize PersistenceImage with the given parameters\n",
    "    pi = PersistenceImage(sigma=sig, n_bins=res, weight_function=weight_func)\n",
    "\n",
    "    # Transform the persistence diagrams into persistence images\n",
    "    persistence_images = pi.fit_transform(persistence_diagrams)\n",
    "\n",
    "    # Compute the persistence vectors (flattened persistence images)\n",
    "    PVs = persistence_images.reshape(persistence_images.shape[0], -1)\n",
    "\n",
    "    return PVs"
   ]
  },
  {
   "cell_type": "code",
   "execution_count": null,
   "metadata": {},
   "outputs": [],
   "source": [
    "HKs = "
   ]
  },
  {
   "cell_type": "code",
   "execution_count": 4,
   "metadata": {},
   "outputs": [
    {
     "data": {
      "image/png": "[encoded data removed]",
      "text/plain": [
       "<Figure size 640x480 with 1 Axes>"
      ]
     },
     "metadata": {},
     "output_type": "display_data"
    },
    {
     "ename": "TypeError",
     "evalue": "Invalid shape (1, 300, 300) for image data",
     "output_type": "error",
     "traceback": [
      "\u001b[0;31m---------------------------------------------------------------------------\u001b[0m",
      "\u001b[0;31mTypeError\u001b[0m                                 Traceback (most recent call last)",
      "Cell \u001b[0;32mIn[4], line 21\u001b[0m\n\u001b[1;32m     18\u001b[0m plt\u001b[38;5;241m.\u001b[39mshow()\n\u001b[1;32m     20\u001b[0m plt\u001b[38;5;241m.\u001b[39mfigure()\n\u001b[0;32m---> 21\u001b[0m plt\u001b[38;5;241m.\u001b[39mimshow(PIs[\u001b[38;5;241m0\u001b[39m, :, :], cmap\u001b[38;5;241m=\u001b[39m\u001b[38;5;124m'\u001b[39m\u001b[38;5;124mhot\u001b[39m\u001b[38;5;124m'\u001b[39m, interpolation\u001b[38;5;241m=\u001b[39m\u001b[38;5;124m'\u001b[39m\u001b[38;5;124mnearest\u001b[39m\u001b[38;5;124m'\u001b[39m)\n\u001b[1;32m     22\u001b[0m plt\u001b[38;5;241m.\u001b[39mshow()\n",
      "File \u001b[0;32m/opt/anaconda3/lib/python3.11/site-packages/matplotlib/pyplot.py:3346\u001b[0m, in \u001b[0;36mimshow\u001b[0;34m(X, cmap, norm, aspect, interpolation, alpha, vmin, vmax, origin, extent, interpolation_stage, filternorm, filterrad, resample, url, data, **kwargs)\u001b[0m\n\u001b[1;32m   3325\u001b[0m \u001b[38;5;129m@_copy_docstring_and_deprecators\u001b[39m(Axes\u001b[38;5;241m.\u001b[39mimshow)\n\u001b[1;32m   3326\u001b[0m \u001b[38;5;28;01mdef\u001b[39;00m \u001b[38;5;21mimshow\u001b[39m(\n\u001b[1;32m   3327\u001b[0m     X: ArrayLike \u001b[38;5;241m|\u001b[39m PIL\u001b[38;5;241m.\u001b[39mImage\u001b[38;5;241m.\u001b[39mImage,\n\u001b[0;32m   (...)\u001b[0m\n\u001b[1;32m   3344\u001b[0m     \u001b[38;5;241m*\u001b[39m\u001b[38;5;241m*\u001b[39mkwargs,\n\u001b[1;32m   3345\u001b[0m ) \u001b[38;5;241m-\u001b[39m\u001b[38;5;241m>\u001b[39m AxesImage:\n\u001b[0;32m-> 3346\u001b[0m     __ret \u001b[38;5;241m=\u001b[39m gca()\u001b[38;5;241m.\u001b[39mimshow(\n\u001b[1;32m   3347\u001b[0m         X,\n\u001b[1;32m   3348\u001b[0m         cmap\u001b[38;5;241m=\u001b[39mcmap,\n\u001b[1;32m   3349\u001b[0m         norm\u001b[38;5;241m=\u001b[39mnorm,\n\u001b[1;32m   3350\u001b[0m         aspect\u001b[38;5;241m=\u001b[39maspect,\n\u001b[1;32m   3351\u001b[0m         interpolation\u001b[38;5;241m=\u001b[39minterpolation,\n\u001b[1;32m   3352\u001b[0m         alpha\u001b[38;5;241m=\u001b[39malpha,\n\u001b[1;32m   3353\u001b[0m         vmin\u001b[38;5;241m=\u001b[39mvmin,\n\u001b[1;32m   3354\u001b[0m         vmax\u001b[38;5;241m=\u001b[39mvmax,\n\u001b[1;32m   3355\u001b[0m         origin\u001b[38;5;241m=\u001b[39morigin,\n\u001b[1;32m   3356\u001b[0m         extent\u001b[38;5;241m=\u001b[39mextent,\n\u001b[1;32m   3357\u001b[0m         interpolation_stage\u001b[38;5;241m=\u001b[39minterpolation_stage,\n\u001b[1;32m   3358\u001b[0m         filternorm\u001b[38;5;241m=\u001b[39mfilternorm,\n\u001b[1;32m   3359\u001b[0m         filterrad\u001b[38;5;241m=\u001b[39mfilterrad,\n\u001b[1;32m   3360\u001b[0m         resample\u001b[38;5;241m=\u001b[39mresample,\n\u001b[1;32m   3361\u001b[0m         url\u001b[38;5;241m=\u001b[39murl,\n\u001b[1;32m   3362\u001b[0m         \u001b[38;5;241m*\u001b[39m\u001b[38;5;241m*\u001b[39m({\u001b[38;5;124m\"\u001b[39m\u001b[38;5;124mdata\u001b[39m\u001b[38;5;124m\"\u001b[39m: data} \u001b[38;5;28;01mif\u001b[39;00m data \u001b[38;5;129;01mis\u001b[39;00m \u001b[38;5;129;01mnot\u001b[39;00m \u001b[38;5;28;01mNone\u001b[39;00m \u001b[38;5;28;01melse\u001b[39;00m {}),\n\u001b[1;32m   3363\u001b[0m         \u001b[38;5;241m*\u001b[39m\u001b[38;5;241m*\u001b[39mkwargs,\n\u001b[1;32m   3364\u001b[0m     )\n\u001b[1;32m   3365\u001b[0m     sci(__ret)\n\u001b[1;32m   3366\u001b[0m     \u001b[38;5;28;01mreturn\u001b[39;00m __ret\n",
      "File \u001b[0;32m/opt/anaconda3/lib/python3.11/site-packages/matplotlib/__init__.py:1465\u001b[0m, in \u001b[0;36m_preprocess_data.<locals>.inner\u001b[0;34m(ax, data, *args, **kwargs)\u001b[0m\n\u001b[1;32m   1462\u001b[0m \u001b[38;5;129m@functools\u001b[39m\u001b[38;5;241m.\u001b[39mwraps(func)\n\u001b[1;32m   1463\u001b[0m \u001b[38;5;28;01mdef\u001b[39;00m \u001b[38;5;21minner\u001b[39m(ax, \u001b[38;5;241m*\u001b[39margs, data\u001b[38;5;241m=\u001b[39m\u001b[38;5;28;01mNone\u001b[39;00m, \u001b[38;5;241m*\u001b[39m\u001b[38;5;241m*\u001b[39mkwargs):\n\u001b[1;32m   1464\u001b[0m     \u001b[38;5;28;01mif\u001b[39;00m data \u001b[38;5;129;01mis\u001b[39;00m \u001b[38;5;28;01mNone\u001b[39;00m:\n\u001b[0;32m-> 1465\u001b[0m         \u001b[38;5;28;01mreturn\u001b[39;00m func(ax, \u001b[38;5;241m*\u001b[39m\u001b[38;5;28mmap\u001b[39m(sanitize_sequence, args), \u001b[38;5;241m*\u001b[39m\u001b[38;5;241m*\u001b[39mkwargs)\n\u001b[1;32m   1467\u001b[0m     bound \u001b[38;5;241m=\u001b[39m new_sig\u001b[38;5;241m.\u001b[39mbind(ax, \u001b[38;5;241m*\u001b[39margs, \u001b[38;5;241m*\u001b[39m\u001b[38;5;241m*\u001b[39mkwargs)\n\u001b[1;32m   1468\u001b[0m     auto_label \u001b[38;5;241m=\u001b[39m (bound\u001b[38;5;241m.\u001b[39marguments\u001b[38;5;241m.\u001b[39mget(label_namer)\n\u001b[1;32m   1469\u001b[0m                   \u001b[38;5;129;01mor\u001b[39;00m bound\u001b[38;5;241m.\u001b[39mkwargs\u001b[38;5;241m.\u001b[39mget(label_namer))\n",
      "File \u001b[0;32m/opt/anaconda3/lib/python3.11/site-packages/matplotlib/axes/_axes.py:5751\u001b[0m, in \u001b[0;36mAxes.imshow\u001b[0;34m(self, X, cmap, norm, aspect, interpolation, alpha, vmin, vmax, origin, extent, interpolation_stage, filternorm, filterrad, resample, url, **kwargs)\u001b[0m\n\u001b[1;32m   5748\u001b[0m \u001b[38;5;28;01mif\u001b[39;00m aspect \u001b[38;5;129;01mis\u001b[39;00m \u001b[38;5;129;01mnot\u001b[39;00m \u001b[38;5;28;01mNone\u001b[39;00m:\n\u001b[1;32m   5749\u001b[0m     \u001b[38;5;28mself\u001b[39m\u001b[38;5;241m.\u001b[39mset_aspect(aspect)\n\u001b[0;32m-> 5751\u001b[0m im\u001b[38;5;241m.\u001b[39mset_data(X)\n\u001b[1;32m   5752\u001b[0m im\u001b[38;5;241m.\u001b[39mset_alpha(alpha)\n\u001b[1;32m   5753\u001b[0m \u001b[38;5;28;01mif\u001b[39;00m im\u001b[38;5;241m.\u001b[39mget_clip_path() \u001b[38;5;129;01mis\u001b[39;00m \u001b[38;5;28;01mNone\u001b[39;00m:\n\u001b[1;32m   5754\u001b[0m     \u001b[38;5;66;03m# image does not already have clipping set, clip to axes patch\u001b[39;00m\n",
      "File \u001b[0;32m/opt/anaconda3/lib/python3.11/site-packages/matplotlib/image.py:723\u001b[0m, in \u001b[0;36m_ImageBase.set_data\u001b[0;34m(self, A)\u001b[0m\n\u001b[1;32m    721\u001b[0m \u001b[38;5;28;01mif\u001b[39;00m \u001b[38;5;28misinstance\u001b[39m(A, PIL\u001b[38;5;241m.\u001b[39mImage\u001b[38;5;241m.\u001b[39mImage):\n\u001b[1;32m    722\u001b[0m     A \u001b[38;5;241m=\u001b[39m pil_to_array(A)  \u001b[38;5;66;03m# Needed e.g. to apply png palette.\u001b[39;00m\n\u001b[0;32m--> 723\u001b[0m \u001b[38;5;28mself\u001b[39m\u001b[38;5;241m.\u001b[39m_A \u001b[38;5;241m=\u001b[39m \u001b[38;5;28mself\u001b[39m\u001b[38;5;241m.\u001b[39m_normalize_image_array(A)\n\u001b[1;32m    724\u001b[0m \u001b[38;5;28mself\u001b[39m\u001b[38;5;241m.\u001b[39m_imcache \u001b[38;5;241m=\u001b[39m \u001b[38;5;28;01mNone\u001b[39;00m\n\u001b[1;32m    725\u001b[0m \u001b[38;5;28mself\u001b[39m\u001b[38;5;241m.\u001b[39mstale \u001b[38;5;241m=\u001b[39m \u001b[38;5;28;01mTrue\u001b[39;00m\n",
      "File \u001b[0;32m/opt/anaconda3/lib/python3.11/site-packages/matplotlib/image.py:693\u001b[0m, in \u001b[0;36m_ImageBase._normalize_image_array\u001b[0;34m(A)\u001b[0m\n\u001b[1;32m    691\u001b[0m     A \u001b[38;5;241m=\u001b[39m A\u001b[38;5;241m.\u001b[39msqueeze(\u001b[38;5;241m-\u001b[39m\u001b[38;5;241m1\u001b[39m)  \u001b[38;5;66;03m# If just (M, N, 1), assume scalar and apply colormap.\u001b[39;00m\n\u001b[1;32m    692\u001b[0m \u001b[38;5;28;01mif\u001b[39;00m \u001b[38;5;129;01mnot\u001b[39;00m (A\u001b[38;5;241m.\u001b[39mndim \u001b[38;5;241m==\u001b[39m \u001b[38;5;241m2\u001b[39m \u001b[38;5;129;01mor\u001b[39;00m A\u001b[38;5;241m.\u001b[39mndim \u001b[38;5;241m==\u001b[39m \u001b[38;5;241m3\u001b[39m \u001b[38;5;129;01mand\u001b[39;00m A\u001b[38;5;241m.\u001b[39mshape[\u001b[38;5;241m-\u001b[39m\u001b[38;5;241m1\u001b[39m] \u001b[38;5;129;01min\u001b[39;00m [\u001b[38;5;241m3\u001b[39m, \u001b[38;5;241m4\u001b[39m]):\n\u001b[0;32m--> 693\u001b[0m     \u001b[38;5;28;01mraise\u001b[39;00m \u001b[38;5;167;01mTypeError\u001b[39;00m(\u001b[38;5;124mf\u001b[39m\u001b[38;5;124m\"\u001b[39m\u001b[38;5;124mInvalid shape \u001b[39m\u001b[38;5;132;01m{\u001b[39;00mA\u001b[38;5;241m.\u001b[39mshape\u001b[38;5;132;01m}\u001b[39;00m\u001b[38;5;124m for image data\u001b[39m\u001b[38;5;124m\"\u001b[39m)\n\u001b[1;32m    694\u001b[0m \u001b[38;5;28;01mif\u001b[39;00m A\u001b[38;5;241m.\u001b[39mndim \u001b[38;5;241m==\u001b[39m \u001b[38;5;241m3\u001b[39m:\n\u001b[1;32m    695\u001b[0m     \u001b[38;5;66;03m# If the input data has values outside the valid range (after\u001b[39;00m\n\u001b[1;32m    696\u001b[0m     \u001b[38;5;66;03m# normalisation), we issue a warning and then clip X to the bounds\u001b[39;00m\n\u001b[1;32m    697\u001b[0m     \u001b[38;5;66;03m# - otherwise casting wraps extreme values, hiding outliers and\u001b[39;00m\n\u001b[1;32m    698\u001b[0m     \u001b[38;5;66;03m# making reliable interpretation impossible.\u001b[39;00m\n\u001b[1;32m    699\u001b[0m     high \u001b[38;5;241m=\u001b[39m \u001b[38;5;241m255\u001b[39m \u001b[38;5;28;01mif\u001b[39;00m np\u001b[38;5;241m.\u001b[39missubdtype(A\u001b[38;5;241m.\u001b[39mdtype, np\u001b[38;5;241m.\u001b[39minteger) \u001b[38;5;28;01melse\u001b[39;00m \u001b[38;5;241m1\u001b[39m\n",
      "\u001b[0;31mTypeError\u001b[0m: Invalid shape (1, 300, 300) for image data"
     ]
    },
    {
     "data": {
      "image/png": "[encoded data removed]",
      "text/plain": [
       "<Figure size 640x480 with 1 Axes>"
      ]
     },
     "metadata": {},
     "output_type": "display_data"
    }
   ],
   "source": [
    "# Example 0: Generate persistence images from a \"grid-like\" persistence diagram with a linear weighting function\n",
    "HKs = [np.array([[0,0],[0,1],[0,2],[0,3],[0,4],\n",
    "                 [1,1],[1,2],[1,3],[1,4],\n",
    "                 [2,2],[2,3],[2,4],\n",
    "                 [3,3],[3,4],\n",
    "                 [4,4]])]\n",
    "res = 300\n",
    "sig = 0.01\n",
    "weight_func = linear_ramp_wrapper\n",
    "params = [0.05, 3.5]\n",
    "PIs = make_PIs(HKs, res, sig, weight_func, params)\n",
    "\n",
    "# Plot a persistence diagram and its persistence image\n",
    "HK1 = HKs[0]\n",
    "plt.figure()\n",
    "plt.plot(HK1[:,0], HK1[:,1], 'o')\n",
    "plt.plot([0,4],[0,4])  # plot the diagonal line\n",
    "plt.show()\n",
    "\n",
    "plt.figure()\n",
    "plt.imshow(PIs[0, :, :], cmap='hot', interpolation='nearest')\n",
    "plt.show()\n"
   ]
  },
  {
   "cell_type": "code",
   "execution_count": null,
   "metadata": {},
   "outputs": [],
   "source": [
    "# Example 1: Generate persistence images with linear weighting function\n",
    "HKs = [[np.vstack((np.random.rand(50), np.random.rand(50) * 2/3 + np.random.rand(50))).T for _ in range(5)] for _ in range(10)]\n",
    "res = 20\n",
    "sig = 0.001\n",
    "weight_func = linear_ramp_wrapper\n",
    "params = [0.05, 0.5]\n",
    "PIs = make_PIs(HKs, res, sig, weight_func, params)\n",
    "\n",
    "# Plot a persistence diagram and its persistence image\n",
    "HK1 = HKs[0][0]\n",
    "plt.figure()\n",
    "plt.plot(HK1[:,0], HK1[:,1], 'o')\n",
    "plt.plot([0,1.5],[0,1.5])  # plot the diagonal line\n",
    "plt.show()\n",
    "\n",
    "plt.figure()\n",
    "plt.imshow(PIs[0][0], cmap='hot', interpolation='nearest')\n",
    "plt.show()"
   ]
  },
  {
   "cell_type": "code",
   "execution_count": null,
   "metadata": {},
   "outputs": [],
   "source": [
    "# Example 2: Generate persistence images with bump weighting function\n",
    "HKs = [[np.vstack((np.random.rand(50), np.random.rand(50) * 2/3 + np.random.rand(50))).T for _ in range(5)] for _ in range(10)]\n",
    "res = 20\n",
    "sig = 0.01\n",
    "\n",
    "maxradius = 1.5\n",
    "minradius = 0.5\n",
    "maxgrow = 1\n",
    "mingrow = 1\n",
    "resolution = 10000\n",
    "\n",
    "weight_func = bump\n",
    "params = [maxradius, minradius, maxgrow, mingrow, resolution]\n",
    "PIs = make_PIs(HKs, res, sig, weight_func, params)\n",
    "\n",
    "# Plot a persistence diagram and its persistence image\n",
    "HK1 = HKs[0][0]\n",
    "plt.figure()\n",
    "plt.plot(HK1[:,0], HK1[:,1], 'o')\n",
    "plt.plot([0,1.5],[0,1.5])  # plot the diagonal line\n",
    "plt.show()\n",
    "\n",
    "plt.figure()\n",
    "plt.imshow(PIs[0][0], cmap='hot', interpolation='nearest')\n",
    "plt.show()"
   ]
  },
  {
   "cell_type": "code",
   "execution_count": null,
   "metadata": {},
   "outputs": [],
   "source": [
    "# Example 3: Generate PVs with bump weighting function\n",
    "HKs = [[np.vstack((np.zeros(50), (2/3) * np.random.rand(50))).T for _ in range(5)] for _ in range(10)]\n",
    "res = 20\n",
    "sig = 0.01\n",
    "\n",
    "weight_func = bump\n",
    "params = [maxradius, minradius, maxgrow, mingrow, resolution]\n",
    "PIs = make_PVs(HKs, res, sig, weight_func, params)\n",
    "\n",
    "# Plot a persistence diagram and its persistence image\n",
    "HK1 = HKs[0][0]\n",
    "plt.figure()\n",
    "plt.plot(HK1[:,0], HK1[:,1], 'o')\n",
    "plt.plot([0,1.5],[0,1.5])  # plot the diagonal line\n",
    "plt.show()\n",
    "\n",
    "plt.figure()\n",
    "plt.imshow(PIs[0][0], cmap='hot', interpolation='nearest')\n",
    "plt.show()"
   ]
  },
  {
   "cell_type": "code",
   "execution_count": null,
   "metadata": {},
   "outputs": [],
   "source": [
    "# Example 4: Making persistence images with the default settings\n",
    "# Default settings are a linear weighting function over the interval [0, max_persistence], resolution=25, sigma=1/2*(pixel height), and hard boundaries.\n",
    "\n",
    "HKs = [[np.vstack((np.random.rand(50), np.random.rand(50) * 2/3 + np.random.rand(50))).T for _ in range(5)] for _ in range(10)]\n",
    "PIs = make_PIs(HKs)\n",
    "\n",
    "# Plot a persistence diagram and its persistence image\n",
    "HK1 = HKs[0][0]\n",
    "plt.figure()\n",
    "plt.plot(HK1[:,0], HK1[:,1], 'o')\n",
    "plt.plot([0,1.5],[0,1.5])  # plot the diagonal line\n",
    "plt.show()\n",
    "\n",
    "plt.figure()\n",
    "plt.imshow(PIs[0][0], cmap='hot', interpolation='nearest')\n",
    "plt.show()"
   ]
  }
 ],
 "metadata": {
  "kernelspec": {
   "display_name": "base",
   "language": "python",
   "name": "python3"
  },
  "language_info": {
   "codemirror_mode": {
    "name": "ipython",
    "version": 3
   },
   "file_extension": ".py",
   "mimetype": "text/x-python",
   "name": "python",
   "nbconvert_exporter": "python",
   "pygments_lexer": "ipython3",
   "version": "3.11.7"
  }
 },
 "nbformat": 4,
 "nbformat_minor": 2
}
